{
 "cells": [
  {
   "cell_type": "markdown",
   "id": "77c6168a",
   "metadata": {},
   "source": [
    "# 01 — Data Preparation & EDA\n",
    "\n",
    "This notebook:\n",
    "- Loads dataset & config\n",
    "- Applies the preprocessing pipeline (normalize → tokenize → stopwords)\n",
    "- Produces quick EDA (doc lengths, top terms)\n",
    "- Runs lightweight NER frequency analysis\n"
   ]
  },
  {
   "cell_type": "code",
   "execution_count": 1,
   "id": "a4e1fe13",
   "metadata": {},
   "outputs": [
    {
     "name": "stdout",
     "output_type": "stream",
     "text": [
      "Repo root: C:\\Users\\BAB AL SAFA\\Documents\\Vani\\personal\\escalate-nlp-agent\n",
      "Using src dir: C:\\Users\\BAB AL SAFA\\Documents\\Vani\\personal\\escalate-nlp-agent\\src\n"
     ]
    }
   ],
   "source": [
    "# Ensure local package imports resolve (repo uses src/ layout)\n",
    "import os, sys\n",
    "from pathlib import Path\n",
    "\n",
    "# Adjust this if you run the notebook from elsewhere\n",
    "REPO_ROOT = Path.cwd().resolve().parents[0] if Path.cwd().name == \"notebooks\" else Path.cwd()\n",
    "SRC_DIR = REPO_ROOT / \"src\"\n",
    "if str(SRC_DIR) not in sys.path:\n",
    "    sys.path.insert(0, str(SRC_DIR))\n",
    "\n",
    "print(\"Repo root:\", REPO_ROOT)\n",
    "print(\"Using src dir:\", SRC_DIR)\n",
    "\n",
    "import yaml\n",
    "import pandas as pd\n",
    "import matplotlib.pyplot as plt\n",
    "\n",
    "from escalate_nlp_agent.pipeline import load_raw, preprocess\n",
    "from escalate_nlp_agent.eda import stats, viz\n",
    "from escalate_nlp_agent.eda.ner import entity_freq\n"
   ]
  },
  {
   "cell_type": "code",
   "execution_count": null,
   "id": "51f8d24f",
   "metadata": {},
   "outputs": [
    {
     "name": "stdout",
     "output_type": "stream",
     "text": [
      "CWD set to: C:\\Users\\BAB AL SAFA\\Documents\\Vani\\personal\\escalate-nlp-agent\n",
      "Dataset config: C:\\Users\\BAB AL SAFA\\Documents\\Vani\\personal\\escalate-nlp-agent\\configs\\dataset\\reuters.yaml\n",
      "Dataset id: reuters\n"
     ]
    }
   ],
   "source": [
    "# Master config: points to a dataset YAML (reuters OR amazon_polarity)\n",
    "CONFIG_PATH = REPO_ROOT / \"configs\" / \"config.yaml\"\n",
    "with open(CONFIG_PATH, \"r\") as f:\n",
    "    cfg = yaml.safe_load(f)\n",
    "\n",
    "DS_CFG_PATH = REPO_ROOT / cfg[\"dataset_config\"]\n",
    "with open(DS_CFG_PATH, \"r\") as f:\n",
    "    ds_cfg = yaml.safe_load(f)\n",
    "\n",
    "\n",
    "os.chdir(REPO_ROOT)\n",
    "print(\"CWD set to:\", os.getcwd())\n",
    "\n",
    "\n",
    "print(\"Dataset config:\", DS_CFG_PATH)\n",
    "print(\"Dataset id:\", ds_cfg[\"id\"])"
   ]
  },
  {
   "cell_type": "code",
   "execution_count": 3,
   "id": "0b29fd23",
   "metadata": {},
   "outputs": [],
   "source": [
    "# One-time setup (safe to re-run)\n",
    "import nltk\n",
    "try:\n",
    "    nltk.data.find(\"corpora/stopwords\")\n",
    "except LookupError:\n",
    "    nltk.download(\"stopwords\")\n",
    "\n",
    "# spaCy small English model for NER (safe to re-run)\n",
    "import spacy\n",
    "try:\n",
    "    _ = spacy.load(\"en_core_web_sm\")\n",
    "except Exception:\n",
    "    !python -m spacy download en_core_web_sm\n"
   ]
  },
  {
   "cell_type": "code",
   "execution_count": 4,
   "id": "d69f4143",
   "metadata": {},
   "outputs": [
    {
     "name": "stdout",
     "output_type": "stream",
     "text": [
      "Raw shape: (10788, 4)\n"
     ]
    },
    {
     "data": {
      "text/html": [
       "<div>\n",
       "<style scoped>\n",
       "    .dataframe tbody tr th:only-of-type {\n",
       "        vertical-align: middle;\n",
       "    }\n",
       "\n",
       "    .dataframe tbody tr th {\n",
       "        vertical-align: top;\n",
       "    }\n",
       "\n",
       "    .dataframe thead th {\n",
       "        text-align: right;\n",
       "    }\n",
       "</style>\n",
       "<table border=\"1\" class=\"dataframe\">\n",
       "  <thead>\n",
       "    <tr style=\"text-align: right;\">\n",
       "      <th></th>\n",
       "      <th>id</th>\n",
       "      <th>split</th>\n",
       "      <th>text</th>\n",
       "      <th>topics</th>\n",
       "    </tr>\n",
       "  </thead>\n",
       "  <tbody>\n",
       "    <tr>\n",
       "      <th>0</th>\n",
       "      <td>test/14826</td>\n",
       "      <td>test</td>\n",
       "      <td>ASIAN EXPORTERS FEAR DAMAGE FROM U.S.-JAPAN RI...</td>\n",
       "      <td>[trade]</td>\n",
       "    </tr>\n",
       "    <tr>\n",
       "      <th>1</th>\n",
       "      <td>test/14828</td>\n",
       "      <td>test</td>\n",
       "      <td>CHINA DAILY SAYS VERMIN EAT 7-12 PCT GRAIN STO...</td>\n",
       "      <td>[grain]</td>\n",
       "    </tr>\n",
       "    <tr>\n",
       "      <th>2</th>\n",
       "      <td>test/14829</td>\n",
       "      <td>test</td>\n",
       "      <td>JAPAN TO REVISE LONG-TERM ENERGY DEMAND DOWNWA...</td>\n",
       "      <td>[crude, nat-gas]</td>\n",
       "    </tr>\n",
       "  </tbody>\n",
       "</table>\n",
       "</div>"
      ],
      "text/plain": [
       "           id split                                               text  \\\n",
       "0  test/14826  test  ASIAN EXPORTERS FEAR DAMAGE FROM U.S.-JAPAN RI...   \n",
       "1  test/14828  test  CHINA DAILY SAYS VERMIN EAT 7-12 PCT GRAIN STO...   \n",
       "2  test/14829  test  JAPAN TO REVISE LONG-TERM ENERGY DEMAND DOWNWA...   \n",
       "\n",
       "             topics  \n",
       "0           [trade]  \n",
       "1           [grain]  \n",
       "2  [crude, nat-gas]  "
      ]
     },
     "execution_count": 4,
     "metadata": {},
     "output_type": "execute_result"
    }
   ],
   "source": [
    "raw_df = load_raw(ds_cfg)\n",
    "print(f\"Raw shape: {raw_df.shape}\")\n",
    "raw_df.head(3)\n"
   ]
  },
  {
   "cell_type": "markdown",
   "id": "cc629b23",
   "metadata": {},
   "source": [
    "**Column mapping expected (after preprocess):**\n",
    "\n",
    "- `id` (string)\n",
    "- `split` (`train` / `test` / `all`)\n",
    "- `title` (nullable)\n",
    "- `text` (main text)\n",
    "- `tokens` (list of tokens) — added by preprocessing\n",
    "- `meta` (JSON string; dataset-specific)\n"
   ]
  },
  {
   "cell_type": "code",
   "execution_count": 5,
   "id": "c99189aa",
   "metadata": {},
   "outputs": [
    {
     "name": "stdout",
     "output_type": "stream",
     "text": [
      "Preprocessed shape: (10604, 6)\n"
     ]
    },
    {
     "data": {
      "text/html": [
       "<div>\n",
       "<style scoped>\n",
       "    .dataframe tbody tr th:only-of-type {\n",
       "        vertical-align: middle;\n",
       "    }\n",
       "\n",
       "    .dataframe tbody tr th {\n",
       "        vertical-align: top;\n",
       "    }\n",
       "\n",
       "    .dataframe thead th {\n",
       "        text-align: right;\n",
       "    }\n",
       "</style>\n",
       "<table border=\"1\" class=\"dataframe\">\n",
       "  <thead>\n",
       "    <tr style=\"text-align: right;\">\n",
       "      <th></th>\n",
       "      <th>id</th>\n",
       "      <th>split</th>\n",
       "      <th>title</th>\n",
       "      <th>text</th>\n",
       "      <th>tokens</th>\n",
       "      <th>meta</th>\n",
       "    </tr>\n",
       "  </thead>\n",
       "  <tbody>\n",
       "    <tr>\n",
       "      <th>0</th>\n",
       "      <td>test/14826</td>\n",
       "      <td>test</td>\n",
       "      <td>None</td>\n",
       "      <td>asian exporters fear damage from u.s.-japan ri...</td>\n",
       "      <td>[asian, exporters, fear, damage, japan, rift, ...</td>\n",
       "      <td>[trade]</td>\n",
       "    </tr>\n",
       "    <tr>\n",
       "      <th>1</th>\n",
       "      <td>test/14828</td>\n",
       "      <td>test</td>\n",
       "      <td>None</td>\n",
       "      <td>china daily says vermin eat 7-12 pct grain sto...</td>\n",
       "      <td>[china, daily, says, vermin, eat, pct, grain, ...</td>\n",
       "      <td>[grain]</td>\n",
       "    </tr>\n",
       "    <tr>\n",
       "      <th>2</th>\n",
       "      <td>test/14829</td>\n",
       "      <td>test</td>\n",
       "      <td>None</td>\n",
       "      <td>japan to revise long-term energy demand downwa...</td>\n",
       "      <td>[japan, revise, long, term, energy, demand, do...</td>\n",
       "      <td>[crude, nat-gas]</td>\n",
       "    </tr>\n",
       "  </tbody>\n",
       "</table>\n",
       "</div>"
      ],
      "text/plain": [
       "           id split title                                               text  \\\n",
       "0  test/14826  test  None  asian exporters fear damage from u.s.-japan ri...   \n",
       "1  test/14828  test  None  china daily says vermin eat 7-12 pct grain sto...   \n",
       "2  test/14829  test  None  japan to revise long-term energy demand downwa...   \n",
       "\n",
       "                                              tokens              meta  \n",
       "0  [asian, exporters, fear, damage, japan, rift, ...           [trade]  \n",
       "1  [china, daily, says, vermin, eat, pct, grain, ...           [grain]  \n",
       "2  [japan, revise, long, term, energy, demand, do...  [crude, nat-gas]  "
      ]
     },
     "execution_count": 5,
     "metadata": {},
     "output_type": "execute_result"
    }
   ],
   "source": [
    "prep_df = preprocess(raw_df, ds_cfg)\n",
    "print(f\"Preprocessed shape: {prep_df.shape}\")\n",
    "prep_df.head(3)"
   ]
  },
  {
   "cell_type": "code",
   "execution_count": 6,
   "id": "46d358bd",
   "metadata": {},
   "outputs": [
    {
     "name": "stdout",
     "output_type": "stream",
     "text": [
      "Wrote:\n",
      " - C:\\Users\\BAB AL SAFA\\Documents\\Vani\\personal\\escalate-nlp-agent\\data\\interim\\reuters\\preprocessed.parquet\n",
      " - test.parquet\n",
      " - train.parquet\n"
     ]
    }
   ],
   "source": [
    "from pathlib import Path\n",
    "\n",
    "outputs = ds_cfg[\"outputs\"]\n",
    "interim_path = REPO_ROOT / outputs[\"interim\"]\n",
    "processed_dir = REPO_ROOT / outputs[\"processed_dir\"]\n",
    "interim_path.parent.mkdir(parents=True, exist_ok=True)\n",
    "processed_dir.mkdir(parents=True, exist_ok=True)\n",
    "\n",
    "prep_df.to_parquet(interim_path, index=False)\n",
    "\n",
    "for sp in sorted(prep_df[\"split\"].unique()):\n",
    "    part = prep_df[prep_df[\"split\"] == sp][[\"id\",\"split\",\"title\",\"text\",\"tokens\",\"meta\"]]\n",
    "    part.to_parquet(processed_dir / f\"{sp}.parquet\", index=False)\n",
    "\n",
    "print(\"Wrote:\")\n",
    "print(\" -\", interim_path)\n",
    "for sp in sorted(prep_df[\"split\"].unique()):\n",
    "    print(\" -\", f\"{sp}.parquet\")\n"
   ]
  },
  {
   "cell_type": "code",
   "execution_count": 7,
   "id": "bebf1e9d",
   "metadata": {},
   "outputs": [
    {
     "name": "stdout",
     "output_type": "stream",
     "text": [
      "Saved: C:\\Users\\BAB AL SAFA\\Documents\\Vani\\personal\\escalate-nlp-agent\\reports\\figures\\reuters_len_hist.png\n"
     ]
    },
    {
     "data": {
      "text/plain": [
       "(-0.5, 639.5, 479.5, -0.5)"
      ]
     },
     "execution_count": 7,
     "metadata": {},
     "output_type": "execute_result"
    },
    {
     "data": {
      "image/png": "[encoded data removed]",
      "text/plain": [
       "<Figure size 640x480 with 1 Axes>"
      ]
     },
     "metadata": {},
     "output_type": "display_data"
    }
   ],
   "source": [
    "figures_dir = REPO_ROOT / ds_cfg[\"outputs\"][\"figures_dir\"]\n",
    "figures_dir.mkdir(parents=True, exist_ok=True)\n",
    "\n",
    "lengths_df = stats.doc_lengths(prep_df)\n",
    "out_png = figures_dir / f\"{ds_cfg['id']}_len_hist.png\"\n",
    "viz.plot_lengths(lengths_df, out_png)\n",
    "\n",
    "print(\"Saved:\", out_png)\n",
    "plt.imshow(plt.imread(out_png))\n",
    "plt.axis(\"off\")\n"
   ]
  },
  {
   "cell_type": "code",
   "execution_count": 8,
   "id": "a0e2bad8",
   "metadata": {},
   "outputs": [
    {
     "name": "stdout",
     "output_type": "stream",
     "text": [
      "Saved: C:\\Users\\BAB AL SAFA\\Documents\\Vani\\personal\\escalate-nlp-agent\\reports\\figures\\reuters_top_terms.png\n"
     ]
    },
    {
     "data": {
      "text/html": [
       "<div>\n",
       "<style scoped>\n",
       "    .dataframe tbody tr th:only-of-type {\n",
       "        vertical-align: middle;\n",
       "    }\n",
       "\n",
       "    .dataframe tbody tr th {\n",
       "        vertical-align: top;\n",
       "    }\n",
       "\n",
       "    .dataframe thead th {\n",
       "        text-align: right;\n",
       "    }\n",
       "</style>\n",
       "<table border=\"1\" class=\"dataframe\">\n",
       "  <thead>\n",
       "    <tr style=\"text-align: right;\">\n",
       "      <th></th>\n",
       "      <th>term</th>\n",
       "      <th>count</th>\n",
       "    </tr>\n",
       "  </thead>\n",
       "  <tbody>\n",
       "    <tr>\n",
       "      <th>0</th>\n",
       "      <td>mln</td>\n",
       "      <td>18569</td>\n",
       "    </tr>\n",
       "    <tr>\n",
       "      <th>1</th>\n",
       "      <td>dlrs</td>\n",
       "      <td>12363</td>\n",
       "    </tr>\n",
       "    <tr>\n",
       "      <th>2</th>\n",
       "      <td>pct</td>\n",
       "      <td>9729</td>\n",
       "    </tr>\n",
       "    <tr>\n",
       "      <th>3</th>\n",
       "      <td>cts</td>\n",
       "      <td>8342</td>\n",
       "    </tr>\n",
       "    <tr>\n",
       "      <th>4</th>\n",
       "      <td>year</td>\n",
       "      <td>7157</td>\n",
       "    </tr>\n",
       "    <tr>\n",
       "      <th>5</th>\n",
       "      <td>net</td>\n",
       "      <td>6965</td>\n",
       "    </tr>\n",
       "    <tr>\n",
       "      <th>6</th>\n",
       "      <td>billion</td>\n",
       "      <td>5763</td>\n",
       "    </tr>\n",
       "    <tr>\n",
       "      <th>7</th>\n",
       "      <td>loss</td>\n",
       "      <td>5115</td>\n",
       "    </tr>\n",
       "    <tr>\n",
       "      <th>8</th>\n",
       "      <td>shr</td>\n",
       "      <td>4170</td>\n",
       "    </tr>\n",
       "    <tr>\n",
       "      <th>9</th>\n",
       "      <td>company</td>\n",
       "      <td>4041</td>\n",
       "    </tr>\n",
       "  </tbody>\n",
       "</table>\n",
       "</div>"
      ],
      "text/plain": [
       "      term  count\n",
       "0      mln  18569\n",
       "1     dlrs  12363\n",
       "2      pct   9729\n",
       "3      cts   8342\n",
       "4     year   7157\n",
       "5      net   6965\n",
       "6  billion   5763\n",
       "7     loss   5115\n",
       "8      shr   4170\n",
       "9  company   4041"
      ]
     },
     "metadata": {},
     "output_type": "display_data"
    },
    {
     "data": {
      "text/plain": [
       "(-0.5, 639.5, 479.5, -0.5)"
      ]
     },
     "execution_count": 8,
     "metadata": {},
     "output_type": "execute_result"
    },
    {
     "data": {
      "image/png": "[encoded data removed]",
      "text/plain": [
       "<Figure size 640x480 with 1 Axes>"
      ]
     },
     "metadata": {},
     "output_type": "display_data"
    }
   ],
   "source": [
    "top_n = int(ds_cfg[\"eda\"][\"top_terms_n\"])\n",
    "top_df = stats.top_terms(prep_df, n=top_n)\n",
    "out_png = figures_dir / f\"{ds_cfg['id']}_top_terms.png\"\n",
    "viz.plot_top_terms(top_df, out_png)\n",
    "\n",
    "print(\"Saved:\", out_png)\n",
    "display(top_df.head(10))\n",
    "plt.imshow(plt.imread(out_png))\n",
    "plt.axis(\"off\")\n"
   ]
  },
  {
   "cell_type": "code",
   "execution_count": 9,
   "id": "d925a849",
   "metadata": {},
   "outputs": [
    {
     "name": "stdout",
     "output_type": "stream",
     "text": [
      "Saved: C:\\Users\\BAB AL SAFA\\Documents\\Vani\\personal\\escalate-nlp-agent\\reports\\figures\\reuters_ner_top.csv\n"
     ]
    },
    {
     "data": {
      "text/html": [
       "<div>\n",
       "<style scoped>\n",
       "    .dataframe tbody tr th:only-of-type {\n",
       "        vertical-align: middle;\n",
       "    }\n",
       "\n",
       "    .dataframe tbody tr th {\n",
       "        vertical-align: top;\n",
       "    }\n",
       "\n",
       "    .dataframe thead th {\n",
       "        text-align: right;\n",
       "    }\n",
       "</style>\n",
       "<table border=\"1\" class=\"dataframe\">\n",
       "  <thead>\n",
       "    <tr style=\"text-align: right;\">\n",
       "      <th></th>\n",
       "      <th>label</th>\n",
       "      <th>text</th>\n",
       "      <th>count</th>\n",
       "    </tr>\n",
       "  </thead>\n",
       "  <tbody>\n",
       "    <tr>\n",
       "      <th>380</th>\n",
       "      <td>ORG</td>\n",
       "      <td>cts</td>\n",
       "      <td>1253</td>\n",
       "    </tr>\n",
       "    <tr>\n",
       "      <th>0</th>\n",
       "      <td>GPE</td>\n",
       "      <td>u.s.</td>\n",
       "      <td>935</td>\n",
       "    </tr>\n",
       "    <tr>\n",
       "      <th>1</th>\n",
       "      <td>GPE</td>\n",
       "      <td>japan</td>\n",
       "      <td>401</td>\n",
       "    </tr>\n",
       "    <tr>\n",
       "      <th>50</th>\n",
       "      <td>DATE</td>\n",
       "      <td>1986</td>\n",
       "      <td>340</td>\n",
       "    </tr>\n",
       "    <tr>\n",
       "      <th>53</th>\n",
       "      <td>DATE</td>\n",
       "      <td>today</td>\n",
       "      <td>261</td>\n",
       "    </tr>\n",
       "    <tr>\n",
       "      <th>58</th>\n",
       "      <td>DATE</td>\n",
       "      <td>1987</td>\n",
       "      <td>210</td>\n",
       "    </tr>\n",
       "    <tr>\n",
       "      <th>9</th>\n",
       "      <td>DATE</td>\n",
       "      <td>last year</td>\n",
       "      <td>181</td>\n",
       "    </tr>\n",
       "    <tr>\n",
       "      <th>186</th>\n",
       "      <td>ORG</td>\n",
       "      <td>ec</td>\n",
       "      <td>171</td>\n",
       "    </tr>\n",
       "    <tr>\n",
       "      <th>94</th>\n",
       "      <td>ORG</td>\n",
       "      <td>fed</td>\n",
       "      <td>161</td>\n",
       "    </tr>\n",
       "    <tr>\n",
       "      <th>24</th>\n",
       "      <td>DATE</td>\n",
       "      <td>yesterday</td>\n",
       "      <td>155</td>\n",
       "    </tr>\n",
       "    <tr>\n",
       "      <th>45</th>\n",
       "      <td>DATE</td>\n",
       "      <td>this year</td>\n",
       "      <td>135</td>\n",
       "    </tr>\n",
       "    <tr>\n",
       "      <th>2017</th>\n",
       "      <td>DATE</td>\n",
       "      <td>03/09/87</td>\n",
       "      <td>127</td>\n",
       "    </tr>\n",
       "    <tr>\n",
       "      <th>14</th>\n",
       "      <td>DATE</td>\n",
       "      <td>1985</td>\n",
       "      <td>124</td>\n",
       "    </tr>\n",
       "    <tr>\n",
       "      <th>215</th>\n",
       "      <td>DATE</td>\n",
       "      <td>last month</td>\n",
       "      <td>116</td>\n",
       "    </tr>\n",
       "    <tr>\n",
       "      <th>168</th>\n",
       "      <td>DATE</td>\n",
       "      <td>february</td>\n",
       "      <td>111</td>\n",
       "    </tr>\n",
       "    <tr>\n",
       "      <th>149</th>\n",
       "      <td>GPE</td>\n",
       "      <td>the united states</td>\n",
       "      <td>107</td>\n",
       "    </tr>\n",
       "    <tr>\n",
       "      <th>794</th>\n",
       "      <td>PERSON</td>\n",
       "      <td>reagan</td>\n",
       "      <td>98</td>\n",
       "    </tr>\n",
       "    <tr>\n",
       "      <th>109</th>\n",
       "      <td>DATE</td>\n",
       "      <td>april</td>\n",
       "      <td>93</td>\n",
       "    </tr>\n",
       "    <tr>\n",
       "      <th>140</th>\n",
       "      <td>GPE</td>\n",
       "      <td>u.k.</td>\n",
       "      <td>89</td>\n",
       "    </tr>\n",
       "    <tr>\n",
       "      <th>126</th>\n",
       "      <td>GPE</td>\n",
       "      <td>canada</td>\n",
       "      <td>89</td>\n",
       "    </tr>\n",
       "  </tbody>\n",
       "</table>\n",
       "</div>"
      ],
      "text/plain": [
       "       label               text  count\n",
       "380      ORG                cts   1253\n",
       "0        GPE               u.s.    935\n",
       "1        GPE              japan    401\n",
       "50      DATE               1986    340\n",
       "53      DATE              today    261\n",
       "58      DATE               1987    210\n",
       "9       DATE          last year    181\n",
       "186      ORG                 ec    171\n",
       "94       ORG                fed    161\n",
       "24      DATE          yesterday    155\n",
       "45      DATE          this year    135\n",
       "2017    DATE           03/09/87    127\n",
       "14      DATE               1985    124\n",
       "215     DATE         last month    116\n",
       "168     DATE           february    111\n",
       "149      GPE  the united states    107\n",
       "794   PERSON             reagan     98\n",
       "109     DATE              april     93\n",
       "140      GPE               u.k.     89\n",
       "126      GPE             canada     89"
      ]
     },
     "metadata": {},
     "output_type": "display_data"
    }
   ],
   "source": [
    "if ds_cfg[\"eda\"][\"ner\"][\"enabled\"]:\n",
    "    limit = int(ds_cfg[\"eda\"][\"ner\"][\"limit\"])\n",
    "    ent_df = entity_freq(prep_df[\"text\"].tolist(), limit=limit)\n",
    "    out_csv = figures_dir / f\"{ds_cfg['id']}_ner_top.csv\"\n",
    "    ent_df.head(100).to_csv(out_csv, index=False)\n",
    "    print(\"Saved:\", out_csv)\n",
    "    display(ent_df.head(20))\n",
    "else:\n",
    "    print(\"NER disabled in config.\")\n"
   ]
  },
  {
   "cell_type": "markdown",
   "id": "c65cb92a",
   "metadata": {},
   "source": [
    "## Next Steps\n",
    "- Run **extraction** (rule-based + spaCy NER) on processed data:\n",
    "  - `scripts/run_extraction.py --dataset_config configs/dataset/<dataset>.yaml --extract_config configs/extract/rule_based.yaml`\n",
    "  - `scripts/run_extraction.py --dataset_config configs/dataset/<dataset>.yaml --extract_config configs/extract/spacy_ner.yaml`\n",
    "\n",
    "- Run **summarization** (extractive TextRank):\n",
    "  - `scripts/run_summarization.py --dataset_config configs/dataset/<dataset>.yaml --summarize_config configs/summarize/textrank.yaml`\n",
    "\n",
    "- Try the **agent demo**:\n",
    "  - `scripts/run_agent_demo.py --dataset_config configs/dataset/<dataset>.yaml --agent_config configs/agent/news_aggregator.yaml --query \"Your question here\"`\n"
   ]
  },
  {
   "cell_type": "code",
   "execution_count": null,
   "id": "c3108737",
   "metadata": {},
   "outputs": [],
   "source": []
  }
 ],
 "metadata": {
  "kernelspec": {
   "display_name": "Python 3",
   "language": "python",
   "name": "python3"
  },
  "language_info": {
   "codemirror_mode": {
    "name": "ipython",
    "version": 3
   },
   "file_extension": ".py",
   "mimetype": "text/x-python",
   "name": "python",
   "nbconvert_exporter": "python",
   "pygments_lexer": "ipython3",
   "version": "3.12.6"
  }
 },
 "nbformat": 4,
 "nbformat_minor": 5
}
