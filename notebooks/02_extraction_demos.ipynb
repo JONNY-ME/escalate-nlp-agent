{
 "cells": [
  {
   "cell_type": "markdown",
   "id": "de5662a7",
   "metadata": {},
   "source": [
    "# 02 — Information Extraction Demos (Rule-based + spaCy NER)\n",
    "\n",
    "This notebook:\n",
    "- Loads processed data (from Step 1)\n",
    "- Runs **rule-based** regex extraction and **spaCy NER** on a small sample\n",
    "- Shows qualitative, side-by-side examples\n",
    "- Saves demo outputs for the report\n"
   ]
  },
  {
   "cell_type": "code",
   "execution_count": 2,
   "id": "bddda3e6",
   "metadata": {},
   "outputs": [
    {
     "name": "stdout",
     "output_type": "stream",
     "text": [
      "Repo root: C:\\Users\\BAB AL SAFA\\Documents\\Vani\\personal\\escalate-nlp-agent\n",
      "Using src dir: C:\\Users\\BAB AL SAFA\\Documents\\Vani\\personal\\escalate-nlp-agent\\src\n"
     ]
    }
   ],
   "source": [
    "import os, sys, json, yaml, time\n",
    "from pathlib import Path\n",
    "\n",
    "# Ensure local package is importable\n",
    "REPO_ROOT = Path.cwd().resolve().parents[0] if Path.cwd().name == \"notebooks\" else Path.cwd()\n",
    "SRC_DIR = REPO_ROOT / \"src\"\n",
    "if str(SRC_DIR) not in sys.path:\n",
    "    sys.path.insert(0, str(SRC_DIR))\n",
    "\n",
    "print(\"Repo root:\", REPO_ROOT)\n",
    "print(\"Using src dir:\", SRC_DIR)\n",
    "\n",
    "import pandas as pd\n",
    "from IPython.display import display, HTML\n",
    "\n",
    "from escalate_nlp_agent.extract.rule_based import run_rule_based\n",
    "from escalate_nlp_agent.extract.spacy_ner import run_spacy_ner\n"
   ]
  },
  {
   "cell_type": "code",
   "execution_count": 3,
   "id": "ef4938f9",
   "metadata": {},
   "outputs": [
    {
     "name": "stdout",
     "output_type": "stream",
     "text": [
      "Dataset: NLTK Reuters | id: reuters\n"
     ]
    }
   ],
   "source": [
    "# Load master config → dataset config\n",
    "CONFIG_PATH = REPO_ROOT / \"configs\" / \"config.yaml\"\n",
    "with open(CONFIG_PATH, \"r\") as f:\n",
    "    cfg = yaml.safe_load(f)\n",
    "\n",
    "DS_CFG_PATH = REPO_ROOT / cfg[\"dataset_config\"]\n",
    "with open(DS_CFG_PATH, \"r\") as f:\n",
    "    ds_cfg = yaml.safe_load(f)\n",
    "\n",
    "print(\"Dataset:\", ds_cfg[\"name\"], \"| id:\", ds_cfg[\"id\"])\n"
   ]
  },
  {
   "cell_type": "code",
   "execution_count": 4,
   "id": "1e2dff7b",
   "metadata": {},
   "outputs": [],
   "source": [
    "import spacy\n",
    "try:\n",
    "    _ = spacy.load(\"en_core_web_sm\")\n",
    "except Exception:\n",
    "    !python -m spacy download en_core_web_sm\n"
   ]
  },
  {
   "cell_type": "code",
   "execution_count": 5,
   "id": "c8445869",
   "metadata": {},
   "outputs": [
    {
     "name": "stdout",
     "output_type": "stream",
     "text": [
      "(7616, 3)\n"
     ]
    },
    {
     "data": {
      "text/html": [
       "<div>\n",
       "<style scoped>\n",
       "    .dataframe tbody tr th:only-of-type {\n",
       "        vertical-align: middle;\n",
       "    }\n",
       "\n",
       "    .dataframe tbody tr th {\n",
       "        vertical-align: top;\n",
       "    }\n",
       "\n",
       "    .dataframe thead th {\n",
       "        text-align: right;\n",
       "    }\n",
       "</style>\n",
       "<table border=\"1\" class=\"dataframe\">\n",
       "  <thead>\n",
       "    <tr style=\"text-align: right;\">\n",
       "      <th></th>\n",
       "      <th>id</th>\n",
       "      <th>text</th>\n",
       "      <th>title</th>\n",
       "    </tr>\n",
       "  </thead>\n",
       "  <tbody>\n",
       "    <tr>\n",
       "      <th>0</th>\n",
       "      <td>training/1</td>\n",
       "      <td>bahia cocoa review showers continued throughou...</td>\n",
       "      <td>None</td>\n",
       "    </tr>\n",
       "    <tr>\n",
       "      <th>1</th>\n",
       "      <td>training/10</td>\n",
       "      <td>computer terminal systems &amp;lt;cpml&gt; completes ...</td>\n",
       "      <td>None</td>\n",
       "    </tr>\n",
       "    <tr>\n",
       "      <th>2</th>\n",
       "      <td>training/100</td>\n",
       "      <td>n.z. trading bank deposit growth rises slightl...</td>\n",
       "      <td>None</td>\n",
       "    </tr>\n",
       "  </tbody>\n",
       "</table>\n",
       "</div>"
      ],
      "text/plain": [
       "             id                                               text title\n",
       "0    training/1  bahia cocoa review showers continued throughou...  None\n",
       "1   training/10  computer terminal systems &lt;cpml> completes ...  None\n",
       "2  training/100  n.z. trading bank deposit growth rises slightl...  None"
      ]
     },
     "execution_count": 5,
     "metadata": {},
     "output_type": "execute_result"
    }
   ],
   "source": [
    "proc_dir = REPO_ROOT / ds_cfg[\"outputs\"][\"processed_dir\"]\n",
    "train_path = proc_dir / \"train.parquet\"\n",
    "assert train_path.exists(), f\"Missing {train_path}. Run Step 1 preprocessing.\"\n",
    "\n",
    "df = pd.read_parquet(train_path)[[\"id\",\"text\",\"title\"]]\n",
    "print(df.shape)\n",
    "df.head(3)\n"
   ]
  },
  {
   "cell_type": "code",
   "execution_count": 6,
   "id": "cf8c174f",
   "metadata": {},
   "outputs": [
    {
     "data": {
      "text/html": [
       "<div>\n",
       "<style scoped>\n",
       "    .dataframe tbody tr th:only-of-type {\n",
       "        vertical-align: middle;\n",
       "    }\n",
       "\n",
       "    .dataframe tbody tr th {\n",
       "        vertical-align: top;\n",
       "    }\n",
       "\n",
       "    .dataframe thead th {\n",
       "        text-align: right;\n",
       "    }\n",
       "</style>\n",
       "<table border=\"1\" class=\"dataframe\">\n",
       "  <thead>\n",
       "    <tr style=\"text-align: right;\">\n",
       "      <th></th>\n",
       "      <th>id</th>\n",
       "      <th>text</th>\n",
       "      <th>title</th>\n",
       "    </tr>\n",
       "  </thead>\n",
       "  <tbody>\n",
       "    <tr>\n",
       "      <th>0</th>\n",
       "      <td>training/12077</td>\n",
       "      <td>walker telecommunications corp &amp;lt;wtel&gt; 4th q...</td>\n",
       "      <td>None</td>\n",
       "    </tr>\n",
       "    <tr>\n",
       "      <th>1</th>\n",
       "      <td>training/2714</td>\n",
       "      <td>furniture (ufurf) ups bench craft (sofa) stake...</td>\n",
       "      <td>None</td>\n",
       "    </tr>\n",
       "    <tr>\n",
       "      <th>2</th>\n",
       "      <td>training/13263</td>\n",
       "      <td>caesars world board approves recapitalization ...</td>\n",
       "      <td>None</td>\n",
       "    </tr>\n",
       "  </tbody>\n",
       "</table>\n",
       "</div>"
      ],
      "text/plain": [
       "               id                                               text title\n",
       "0  training/12077  walker telecommunications corp &lt;wtel> 4th q...  None\n",
       "1   training/2714  furniture (ufurf) ups bench craft (sofa) stake...  None\n",
       "2  training/13263  caesars world board approves recapitalization ...  None"
      ]
     },
     "execution_count": 6,
     "metadata": {},
     "output_type": "execute_result"
    }
   ],
   "source": [
    "SAMPLE_N = 20  # fast demo size\n",
    "sample = df.sample(SAMPLE_N, random_state=42).reset_index(drop=True)\n",
    "sample.head(3)\n"
   ]
  },
  {
   "cell_type": "code",
   "execution_count": 7,
   "id": "dfdf7d3d",
   "metadata": {},
   "outputs": [
    {
     "data": {
      "text/plain": [
       "({'name': 'Rule-based Extraction',\n",
       "  'patterns': {'dates': '\\\\b\\\\d{1,2}[/-]\\\\d{1,2}[/-]\\\\d{2,4}\\\\b',\n",
       "   'numbers': '\\\\b\\\\d+(?:\\\\.\\\\d+)?\\\\b',\n",
       "   'emails': '[A-Za-z0-9._%+-]+@[A-Za-z0-9.-]+\\\\.[A-Za-z]{2,}',\n",
       "   'urls': 'https?://[^\\\\s]+'},\n",
       "  'outputs': {'file': 'data/processed/{dataset}/extractions_rule_based.parquet'}},\n",
       " 'en_core_web_sm')"
      ]
     },
     "execution_count": 7,
     "metadata": {},
     "output_type": "execute_result"
    }
   ],
   "source": [
    "RULE_CFG = REPO_ROOT / \"configs\" / \"extract\" / \"rule_based.yaml\"\n",
    "SPCY_CFG = REPO_ROOT / \"configs\" / \"extract\" / \"spacy_ner.yaml\"\n",
    "\n",
    "with open(RULE_CFG, \"r\") as f:\n",
    "    rule_cfg = yaml.safe_load(f)\n",
    "with open(SPCY_CFG, \"r\") as f:\n",
    "    spacy_cfg = yaml.safe_load(f)\n",
    "\n",
    "rule_cfg, spacy_cfg[\"model\"]\n"
   ]
  },
  {
   "cell_type": "code",
   "execution_count": 8,
   "id": "fe3e4af0",
   "metadata": {},
   "outputs": [
    {
     "name": "stdout",
     "output_type": "stream",
     "text": [
      "Rule-based extraction: 20 rows, 0.01s\n"
     ]
    },
    {
     "data": {
      "text/html": [
       "<div>\n",
       "<style scoped>\n",
       "    .dataframe tbody tr th:only-of-type {\n",
       "        vertical-align: middle;\n",
       "    }\n",
       "\n",
       "    .dataframe tbody tr th {\n",
       "        vertical-align: top;\n",
       "    }\n",
       "\n",
       "    .dataframe thead th {\n",
       "        text-align: right;\n",
       "    }\n",
       "</style>\n",
       "<table border=\"1\" class=\"dataframe\">\n",
       "  <thead>\n",
       "    <tr style=\"text-align: right;\">\n",
       "      <th></th>\n",
       "      <th>id</th>\n",
       "      <th>extracted</th>\n",
       "    </tr>\n",
       "  </thead>\n",
       "  <tbody>\n",
       "    <tr>\n",
       "      <th>0</th>\n",
       "      <td>training/12077</td>\n",
       "      <td>{'dates': [], 'numbers': ['818', '25.2', '58',...</td>\n",
       "    </tr>\n",
       "    <tr>\n",
       "      <th>1</th>\n",
       "      <td>training/2714</td>\n",
       "      <td>{'dates': [], 'numbers': ['4', '2', '45.3', '2...</td>\n",
       "    </tr>\n",
       "    <tr>\n",
       "      <th>2</th>\n",
       "      <td>training/13263</td>\n",
       "      <td>{'dates': [], 'numbers': ['28.7', '37.8', '28'...</td>\n",
       "    </tr>\n",
       "  </tbody>\n",
       "</table>\n",
       "</div>"
      ],
      "text/plain": [
       "               id                                          extracted\n",
       "0  training/12077  {'dates': [], 'numbers': ['818', '25.2', '58',...\n",
       "1   training/2714  {'dates': [], 'numbers': ['4', '2', '45.3', '2...\n",
       "2  training/13263  {'dates': [], 'numbers': ['28.7', '37.8', '28'..."
      ]
     },
     "execution_count": 8,
     "metadata": {},
     "output_type": "execute_result"
    }
   ],
   "source": [
    "t0 = time.time()\n",
    "rb_out = run_rule_based(sample[[\"id\",\"text\"]].copy(), rule_cfg)\n",
    "t1 = time.time()\n",
    "print(f\"Rule-based extraction: {len(rb_out)} rows, {t1 - t0:.2f}s\")\n",
    "rb_out.head(3)\n"
   ]
  },
  {
   "cell_type": "code",
   "execution_count": 11,
   "id": "43e43c39",
   "metadata": {},
   "outputs": [
    {
     "name": "stdout",
     "output_type": "stream",
     "text": [
      "spaCy NER extraction: 20 rows, 0.82s\n"
     ]
    },
    {
     "data": {
      "text/html": [
       "<div>\n",
       "<style scoped>\n",
       "    .dataframe tbody tr th:only-of-type {\n",
       "        vertical-align: middle;\n",
       "    }\n",
       "\n",
       "    .dataframe tbody tr th {\n",
       "        vertical-align: top;\n",
       "    }\n",
       "\n",
       "    .dataframe thead th {\n",
       "        text-align: right;\n",
       "    }\n",
       "</style>\n",
       "<table border=\"1\" class=\"dataframe\">\n",
       "  <thead>\n",
       "    <tr style=\"text-align: right;\">\n",
       "      <th></th>\n",
       "      <th>id</th>\n",
       "      <th>entities</th>\n",
       "    </tr>\n",
       "  </thead>\n",
       "  <tbody>\n",
       "    <tr>\n",
       "      <th>0</th>\n",
       "      <td>training/12077</td>\n",
       "      <td>[{'label': 'ORG', 'text': 'walker telecommunic...</td>\n",
       "    </tr>\n",
       "    <tr>\n",
       "      <th>1</th>\n",
       "      <td>training/2714</td>\n",
       "      <td>[{'label': 'ORG', 'text': 'universal furniture...</td>\n",
       "    </tr>\n",
       "    <tr>\n",
       "      <th>2</th>\n",
       "      <td>training/13263</td>\n",
       "      <td>[{'label': 'ORG', 'text': 'caesars world board...</td>\n",
       "    </tr>\n",
       "  </tbody>\n",
       "</table>\n",
       "</div>"
      ],
      "text/plain": [
       "               id                                           entities\n",
       "0  training/12077  [{'label': 'ORG', 'text': 'walker telecommunic...\n",
       "1   training/2714  [{'label': 'ORG', 'text': 'universal furniture...\n",
       "2  training/13263  [{'label': 'ORG', 'text': 'caesars world board..."
      ]
     },
     "execution_count": 11,
     "metadata": {},
     "output_type": "execute_result"
    }
   ],
   "source": [
    "t0 = time.time()\n",
    "ner_out = run_spacy_ner(sample[[\"id\",\"text\"]].copy(), spacy_cfg)\n",
    "t1 = time.time()\n",
    "print(f\"spaCy NER extraction: {len(ner_out)} rows, {t1 - t0:.2f}s\")\n",
    "ner_out.head(3)\n"
   ]
  },
  {
   "cell_type": "code",
   "execution_count": 10,
   "id": "ce6d8983",
   "metadata": {},
   "outputs": [],
   "source": [
    "def html_entities(entity_list, max_items=12):\n",
    "    rows = []\n",
    "    for ent in entity_list[:max_items]:\n",
    "        rows.append(f\"<span style='padding:2px 6px;margin:2px;border:1px solid #ccc;border-radius:8px;display:inline-block;'>{ent['label']}: <b>{ent['text']}</b></span>\")\n",
    "    return \" \".join(rows)\n",
    "\n",
    "def html_rule_hits(extracted, max_items=6):\n",
    "    # extracted is a dict like {'dates':[...],'numbers':[...],...}\n",
    "    chunks = []\n",
    "    for k, v in extracted.items():\n",
    "        if not v: \n",
    "            continue\n",
    "        vals = \", \".join(map(str, v[:max_items]))\n",
    "        chunks.append(f\"<li><b>{k}</b>: {vals}</li>\")\n",
    "    return \"<ul>\" + \"\".join(chunks) + \"</ul>\"\n"
   ]
  },
  {
   "cell_type": "code",
   "execution_count": 12,
   "id": "f75e4d7f",
   "metadata": {},
   "outputs": [
    {
     "data": {
      "text/html": [
       "\n",
       "    <div style=\"border:1px solid #ddd;border-radius:10px;padding:10px;margin-bottom:12px\">\n",
       "      <div style=\"color:#666;font-size:14px\">id: <b>training/12077</b></div>\n",
       "      <div style=\"color:#333;font-size:16px;margin:6px 0\"><b></b></div>\n",
       "      <div style=\"white-space:normal;line-height:1.4;margin:8px 0\">walker telecommunications corp &lt;wtel> 4th qtr shr loss 58 cts vs loss nil net loss 2.9 mln vs loss 17,818 revs 5.0 mln vs 7.4 mln year shr loss 45 cts vs profit four cts net loss 2.0 mln vs profit 174,562 revs 28.5 mln vs 25.2 mln note:1986 4th qtr loss includes loss of 2.2 mln dlrs from discontinuance of operations. 1985 4th qtr includes loss of 79,395 dlrs from discontinued operations. 1986 4th qtr includes 3.5 mln dlr provision for costs anticipated in connection with disposal of division and 500,000 dlrs in adjustments related to write-downs. 1985 4th qtr includes gain of 178,000 dlrs f</div>\n",
       "      <div style=\"margin-top:8px\"><b>Rule-based:</b> <ul><li><b>numbers</b>: 818, 25.2, 58, 28.5, 79, 45</li></ul></div>\n",
       "      <div style=\"margin-top:4px\"><b>spaCy NER:</b> <span style='padding:2px 6px;margin:2px;border:1px solid #ccc;border-radius:8px;display:inline-block;'>ORG: <b>walker telecommunications corp &lt;wtel> 4th</b></span> <span style='padding:2px 6px;margin:2px;border:1px solid #ccc;border-radius:8px;display:inline-block;'>ORG: <b>cts</b></span> <span style='padding:2px 6px;margin:2px;border:1px solid #ccc;border-radius:8px;display:inline-block;'>DATE: <b>7.4 mln year</b></span> <span style='padding:2px 6px;margin:2px;border:1px solid #ccc;border-radius:8px;display:inline-block;'>ORG: <b>cts</b></span> <span style='padding:2px 6px;margin:2px;border:1px solid #ccc;border-radius:8px;display:inline-block;'>ORG: <b>cts</b></span> <span style='padding:2px 6px;margin:2px;border:1px solid #ccc;border-radius:8px;display:inline-block;'>DATE: <b>1985</b></span> <span style='padding:2px 6px;margin:2px;border:1px solid #ccc;border-radius:8px;display:inline-block;'>DATE: <b>1986</b></span> <span style='padding:2px 6px;margin:2px;border:1px solid #ccc;border-radius:8px;display:inline-block;'>DATE: <b>1985</b></span></div>\n",
       "    </div>\n",
       "    "
      ],
      "text/plain": [
       "<IPython.core.display.HTML object>"
      ]
     },
     "metadata": {},
     "output_type": "display_data"
    },
    {
     "data": {
      "text/html": [
       "\n",
       "    <div style=\"border:1px solid #ddd;border-radius:10px;padding:10px;margin-bottom:12px\">\n",
       "      <div style=\"color:#666;font-size:14px\">id: <b>training/2714</b></div>\n",
       "      <div style=\"color:#333;font-size:16px;margin:6px 0\"><b></b></div>\n",
       "      <div style=\"white-space:normal;line-height:1.4;margin:8px 0\">furniture (ufurf) ups bench craft (sofa) stake universal furniture ltd said in a filing with the securities and exchange commission that it had increased its stake in bench craft inc common stock to 2,548,975 shares or 45.3 pct of the total outstanding. universal said its universal furniture industries n.v. unit bought 235,750 bench craft shares march 4 in the over-the-counter market.</div>\n",
       "      <div style=\"margin-top:8px\"><b>Rule-based:</b> <ul><li><b>numbers</b>: 4, 2, 45.3, 235, 975, 750</li></ul></div>\n",
       "      <div style=\"margin-top:4px\"><b>spaCy NER:</b> <span style='padding:2px 6px;margin:2px;border:1px solid #ccc;border-radius:8px;display:inline-block;'>ORG: <b>universal furniture ltd</b></span> <span style='padding:2px 6px;margin:2px;border:1px solid #ccc;border-radius:8px;display:inline-block;'>ORG: <b>the securities and exchange commission</b></span> <span style='padding:2px 6px;margin:2px;border:1px solid #ccc;border-radius:8px;display:inline-block;'>ORG: <b>bench craft inc common stock</b></span> <span style='padding:2px 6px;margin:2px;border:1px solid #ccc;border-radius:8px;display:inline-block;'>PERSON: <b>universal</b></span> <span style='padding:2px 6px;margin:2px;border:1px solid #ccc;border-radius:8px;display:inline-block;'>DATE: <b>march 4</b></span></div>\n",
       "    </div>\n",
       "    "
      ],
      "text/plain": [
       "<IPython.core.display.HTML object>"
      ]
     },
     "metadata": {},
     "output_type": "display_data"
    },
    {
     "data": {
      "text/html": [
       "\n",
       "    <div style=\"border:1px solid #ddd;border-radius:10px;padding:10px;margin-bottom:12px\">\n",
       "      <div style=\"color:#666;font-size:14px\">id: <b>training/13263</b></div>\n",
       "      <div style=\"color:#333;font-size:16px;margin:6px 0\"><b></b></div>\n",
       "      <div style=\"white-space:normal;line-height:1.4;margin:8px 0\">caesars world board approves recapitalization caesars world inc &lt;caw> said its directors unanimously approved a recapitalization plan under which stockholders will get a cash distribution of 25 dlrs per share via a one-time special cash dividend and will retain their common stock ownership in caesars world. caesars world said it expects to raise the approximately one billion dlrs needed to pay the 25 dlr per share dividend and the expenses of recapitalization through around 200 mln dlrs in bank borrowings and a public sale of approximately 800 mln dlrs of debt. some outstanding debt will be</div>\n",
       "      <div style=\"margin-top:8px\"><b>Rule-based:</b> <ul><li><b>numbers</b>: 28.7, 37.8, 28, 1992, 80, 29.25</li></ul></div>\n",
       "      <div style=\"margin-top:4px\"><b>spaCy NER:</b> <span style='padding:2px 6px;margin:2px;border:1px solid #ccc;border-radius:8px;display:inline-block;'>ORG: <b>caesars world board</b></span> <span style='padding:2px 6px;margin:2px;border:1px solid #ccc;border-radius:8px;display:inline-block;'>ORG: <b>world inc &lt;caw></b></span> <span style='padding:2px 6px;margin:2px;border:1px solid #ccc;border-radius:8px;display:inline-block;'>ORG: <b>drexel burnham lambert inc</b></span> <span style='padding:2px 6px;margin:2px;border:1px solid #ccc;border-radius:8px;display:inline-block;'>PERSON: <b>henry gluck</b></span> <span style='padding:2px 6px;margin:2px;border:1px solid #ccc;border-radius:8px;display:inline-block;'>PERSON: <b>martin sosnoff</b></span> <span style='padding:2px 6px;margin:2px;border:1px solid #ccc;border-radius:8px;display:inline-block;'>PERSON: <b>gluck</b></span> <span style='padding:2px 6px;margin:2px;border:1px solid #ccc;border-radius:8px;display:inline-block;'>DATE: <b>friday</b></span> <span style='padding:2px 6px;margin:2px;border:1px solid #ccc;border-radius:8px;display:inline-block;'>DATE: <b>recent years</b></span> <span style='padding:2px 6px;margin:2px;border:1px solid #ccc;border-radius:8px;display:inline-block;'>DATE: <b>the fiscal year ended july 31, 1988</b></span> <span style='padding:2px 6px;margin:2px;border:1px solid #ccc;border-radius:8px;display:inline-block;'>DATE: <b>fiscal 1988</b></span> <span style='padding:2px 6px;margin:2px;border:1px solid #ccc;border-radius:8px;display:inline-block;'>MONEY: <b>76 cents</b></span> <span style='padding:2px 6px;margin:2px;border:1px solid #ccc;border-radius:8px;display:inline-block;'>DATE: <b>1992</b></span></div>\n",
       "    </div>\n",
       "    "
      ],
      "text/plain": [
       "<IPython.core.display.HTML object>"
      ]
     },
     "metadata": {},
     "output_type": "display_data"
    },
    {
     "data": {
      "text/html": [
       "\n",
       "    <div style=\"border:1px solid #ddd;border-radius:10px;padding:10px;margin-bottom:12px\">\n",
       "      <div style=\"color:#666;font-size:14px\">id: <b>training/10215</b></div>\n",
       "      <div style=\"color:#333;font-size:16px;margin:6px 0\"><b></b></div>\n",
       "      <div style=\"white-space:normal;line-height:1.4;margin:8px 0\">campbell red lake mines ltd 4th qtr shr 21 cts vs 10 cts campbell red lake mines ltd 4th qtr shr 21 cts vs 10 cts</div>\n",
       "      <div style=\"margin-top:8px\"><b>Rule-based:</b> <ul><li><b>numbers</b>: 21, 10</li></ul></div>\n",
       "      <div style=\"margin-top:4px\"><b>spaCy NER:</b> <span style='padding:2px 6px;margin:2px;border:1px solid #ccc;border-radius:8px;display:inline-block;'>ORG: <b>campbell red lake mines ltd 4th</b></span> <span style='padding:2px 6px;margin:2px;border:1px solid #ccc;border-radius:8px;display:inline-block;'>ORG: <b>cts</b></span> <span style='padding:2px 6px;margin:2px;border:1px solid #ccc;border-radius:8px;display:inline-block;'>ORG: <b>cts</b></span> <span style='padding:2px 6px;margin:2px;border:1px solid #ccc;border-radius:8px;display:inline-block;'>ORG: <b>cts</b></span> <span style='padding:2px 6px;margin:2px;border:1px solid #ccc;border-radius:8px;display:inline-block;'>ORG: <b>cts</b></span></div>\n",
       "    </div>\n",
       "    "
      ],
      "text/plain": [
       "<IPython.core.display.HTML object>"
      ]
     },
     "metadata": {},
     "output_type": "display_data"
    },
    {
     "data": {
      "text/html": [
       "\n",
       "    <div style=\"border:1px solid #ddd;border-radius:10px;padding:10px;margin-bottom:12px\">\n",
       "      <div style=\"color:#666;font-size:14px\">id: <b>training/12243</b></div>\n",
       "      <div style=\"color:#333;font-size:16px;margin:6px 0\"><b></b></div>\n",
       "      <div style=\"white-space:normal;line-height:1.4;margin:8px 0\">comex raises margins for silver futures the commodity exchange inc said it is increasing the minimum margins for silver futures contracts, effective at the opening of business thursday, april 2. the margins for speculative trading will be increased to 2,000 dlrs per contract from 1,300 dlrs and trade hedge margins will rise to 1,400 dlrs from 900 dlrs, the comex said. margins are unchanged for gold, copper, and aluminum contracts, it said.</div>\n",
       "      <div style=\"margin-top:8px\"><b>Rule-based:</b> <ul><li><b>numbers</b>: 000, 300, 2, 900, 1, 400</li></ul></div>\n",
       "      <div style=\"margin-top:4px\"><b>spaCy NER:</b> <span style='padding:2px 6px;margin:2px;border:1px solid #ccc;border-radius:8px;display:inline-block;'>ORG: <b>comex</b></span> <span style='padding:2px 6px;margin:2px;border:1px solid #ccc;border-radius:8px;display:inline-block;'>ORG: <b>the commodity exchange inc</b></span> <span style='padding:2px 6px;margin:2px;border:1px solid #ccc;border-radius:8px;display:inline-block;'>DATE: <b>thursday</b></span> <span style='padding:2px 6px;margin:2px;border:1px solid #ccc;border-radius:8px;display:inline-block;'>ORG: <b>comex</b></span></div>\n",
       "    </div>\n",
       "    "
      ],
      "text/plain": [
       "<IPython.core.display.HTML object>"
      ]
     },
     "metadata": {},
     "output_type": "display_data"
    }
   ],
   "source": [
    "merged = (sample[[\"id\",\"title\",\"text\"]]\n",
    "          .merge(rb_out, on=\"id\", how=\"left\")\n",
    "          .merge(ner_out, on=\"id\", how=\"left\", suffixes=(\"_rb\",\"_ner\")))\n",
    "\n",
    "def show_row(r, max_text=600):\n",
    "    text = (r[\"text\"] or \"\")[:max_text].replace(\"\\n\", \" \")\n",
    "    ents = r.get(\"entities\") or []\n",
    "    exts = r.get(\"extracted\") or {}\n",
    "    html = f\"\"\"\n",
    "    <div style=\"border:1px solid #ddd;border-radius:10px;padding:10px;margin-bottom:12px\">\n",
    "      <div style=\"color:#666;font-size:14px\">id: <b>{r['id']}</b></div>\n",
    "      <div style=\"color:#333;font-size:16px;margin:6px 0\"><b>{(r.get('title') or '')}</b></div>\n",
    "      <div style=\"white-space:normal;line-height:1.4;margin:8px 0\">{text}</div>\n",
    "      <div style=\"margin-top:8px\"><b>Rule-based:</b> {html_rule_hits(exts)}</div>\n",
    "      <div style=\"margin-top:4px\"><b>spaCy NER:</b> {html_entities(ents)}</div>\n",
    "    </div>\n",
    "    \"\"\"\n",
    "    display(HTML(html))\n",
    "\n",
    "for _, row in merged.head(5).iterrows():\n",
    "    show_row(row)\n"
   ]
  },
  {
   "cell_type": "code",
   "execution_count": 13,
   "id": "62c21d83",
   "metadata": {},
   "outputs": [
    {
     "name": "stdout",
     "output_type": "stream",
     "text": [
      "Rule-based total hits:\n"
     ]
    },
    {
     "data": {
      "text/html": [
       "<div>\n",
       "<style scoped>\n",
       "    .dataframe tbody tr th:only-of-type {\n",
       "        vertical-align: middle;\n",
       "    }\n",
       "\n",
       "    .dataframe tbody tr th {\n",
       "        vertical-align: top;\n",
       "    }\n",
       "\n",
       "    .dataframe thead th {\n",
       "        text-align: right;\n",
       "    }\n",
       "</style>\n",
       "<table border=\"1\" class=\"dataframe\">\n",
       "  <thead>\n",
       "    <tr style=\"text-align: right;\">\n",
       "      <th></th>\n",
       "      <th>type</th>\n",
       "      <th>count</th>\n",
       "    </tr>\n",
       "  </thead>\n",
       "  <tbody>\n",
       "    <tr>\n",
       "      <th>0</th>\n",
       "      <td>numbers</td>\n",
       "      <td>203</td>\n",
       "    </tr>\n",
       "    <tr>\n",
       "      <th>1</th>\n",
       "      <td>dates</td>\n",
       "      <td>0</td>\n",
       "    </tr>\n",
       "    <tr>\n",
       "      <th>2</th>\n",
       "      <td>emails</td>\n",
       "      <td>0</td>\n",
       "    </tr>\n",
       "    <tr>\n",
       "      <th>3</th>\n",
       "      <td>urls</td>\n",
       "      <td>0</td>\n",
       "    </tr>\n",
       "  </tbody>\n",
       "</table>\n",
       "</div>"
      ],
      "text/plain": [
       "      type  count\n",
       "0  numbers    203\n",
       "1    dates      0\n",
       "2   emails      0\n",
       "3     urls      0"
      ]
     },
     "metadata": {},
     "output_type": "display_data"
    },
    {
     "name": "stdout",
     "output_type": "stream",
     "text": [
      "NER label counts:\n"
     ]
    },
    {
     "data": {
      "text/html": [
       "<div>\n",
       "<style scoped>\n",
       "    .dataframe tbody tr th:only-of-type {\n",
       "        vertical-align: middle;\n",
       "    }\n",
       "\n",
       "    .dataframe tbody tr th {\n",
       "        vertical-align: top;\n",
       "    }\n",
       "\n",
       "    .dataframe thead th {\n",
       "        text-align: right;\n",
       "    }\n",
       "</style>\n",
       "<table border=\"1\" class=\"dataframe\">\n",
       "  <thead>\n",
       "    <tr style=\"text-align: right;\">\n",
       "      <th></th>\n",
       "      <th>label</th>\n",
       "      <th>count</th>\n",
       "    </tr>\n",
       "  </thead>\n",
       "  <tbody>\n",
       "    <tr>\n",
       "      <th>0</th>\n",
       "      <td>ORG</td>\n",
       "      <td>78</td>\n",
       "    </tr>\n",
       "    <tr>\n",
       "      <th>1</th>\n",
       "      <td>DATE</td>\n",
       "      <td>75</td>\n",
       "    </tr>\n",
       "    <tr>\n",
       "      <th>2</th>\n",
       "      <td>GPE</td>\n",
       "      <td>34</td>\n",
       "    </tr>\n",
       "    <tr>\n",
       "      <th>3</th>\n",
       "      <td>PERSON</td>\n",
       "      <td>13</td>\n",
       "    </tr>\n",
       "    <tr>\n",
       "      <th>4</th>\n",
       "      <td>MONEY</td>\n",
       "      <td>5</td>\n",
       "    </tr>\n",
       "  </tbody>\n",
       "</table>\n",
       "</div>"
      ],
      "text/plain": [
       "    label  count\n",
       "0     ORG     78\n",
       "1    DATE     75\n",
       "2     GPE     34\n",
       "3  PERSON     13\n",
       "4   MONEY      5"
      ]
     },
     "metadata": {},
     "output_type": "display_data"
    }
   ],
   "source": [
    "# Count total hits per category for rule-based\n",
    "rb_counts = []\n",
    "for _, row in rb_out.iterrows():\n",
    "    ex = row[\"extracted\"] or {}\n",
    "    for k, vals in ex.items():\n",
    "        rb_counts.append({\"type\": k, \"count\": len(vals)})\n",
    "rb_counts = pd.DataFrame(rb_counts).groupby(\"type\")[\"count\"].sum().sort_values(ascending=False).reset_index()\n",
    "print(\"Rule-based total hits:\")\n",
    "display(rb_counts)\n",
    "\n",
    "# Count entities by label\n",
    "ent_counts = []\n",
    "for _, row in ner_out.iterrows():\n",
    "    ents = row[\"entities\"] or []\n",
    "    for e in ents:\n",
    "        ent_counts.append({\"label\": e[\"label\"]})\n",
    "ent_counts = pd.DataFrame(ent_counts)\n",
    "if len(ent_counts):\n",
    "    ent_counts = ent_counts.value_counts().reset_index(name=\"count\").rename(columns={\"index\":\"label\"})\n",
    "    print(\"NER label counts:\")\n",
    "    display(ent_counts)\n",
    "else:\n",
    "    print(\"No entities found in sample.\")\n"
   ]
  },
  {
   "cell_type": "code",
   "execution_count": 14,
   "id": "2ea70464",
   "metadata": {},
   "outputs": [
    {
     "data": {
      "text/html": [
       "<div>\n",
       "<style scoped>\n",
       "    .dataframe tbody tr th:only-of-type {\n",
       "        vertical-align: middle;\n",
       "    }\n",
       "\n",
       "    .dataframe tbody tr th {\n",
       "        vertical-align: top;\n",
       "    }\n",
       "\n",
       "    .dataframe thead th {\n",
       "        text-align: right;\n",
       "    }\n",
       "</style>\n",
       "<table border=\"1\" class=\"dataframe\">\n",
       "  <thead>\n",
       "    <tr style=\"text-align: right;\">\n",
       "      <th></th>\n",
       "      <th>id</th>\n",
       "      <th>rb_numbers</th>\n",
       "      <th>rb_dates</th>\n",
       "      <th>ner_dates</th>\n",
       "      <th>ner_money</th>\n",
       "      <th>ner_percent</th>\n",
       "      <th>any_overlap_dates</th>\n",
       "    </tr>\n",
       "  </thead>\n",
       "  <tbody>\n",
       "    <tr>\n",
       "      <th>0</th>\n",
       "      <td>training/12077</td>\n",
       "      <td>21</td>\n",
       "      <td>0</td>\n",
       "      <td>3</td>\n",
       "      <td>0</td>\n",
       "      <td>0</td>\n",
       "      <td>0</td>\n",
       "    </tr>\n",
       "    <tr>\n",
       "      <th>1</th>\n",
       "      <td>training/2714</td>\n",
       "      <td>7</td>\n",
       "      <td>0</td>\n",
       "      <td>1</td>\n",
       "      <td>0</td>\n",
       "      <td>0</td>\n",
       "      <td>0</td>\n",
       "    </tr>\n",
       "    <tr>\n",
       "      <th>2</th>\n",
       "      <td>training/13263</td>\n",
       "      <td>15</td>\n",
       "      <td>0</td>\n",
       "      <td>6</td>\n",
       "      <td>1</td>\n",
       "      <td>0</td>\n",
       "      <td>0</td>\n",
       "    </tr>\n",
       "    <tr>\n",
       "      <th>3</th>\n",
       "      <td>training/10215</td>\n",
       "      <td>2</td>\n",
       "      <td>0</td>\n",
       "      <td>0</td>\n",
       "      <td>0</td>\n",
       "      <td>0</td>\n",
       "      <td>0</td>\n",
       "    </tr>\n",
       "    <tr>\n",
       "      <th>4</th>\n",
       "      <td>training/12243</td>\n",
       "      <td>6</td>\n",
       "      <td>0</td>\n",
       "      <td>1</td>\n",
       "      <td>0</td>\n",
       "      <td>0</td>\n",
       "      <td>0</td>\n",
       "    </tr>\n",
       "    <tr>\n",
       "      <th>5</th>\n",
       "      <td>training/10720</td>\n",
       "      <td>7</td>\n",
       "      <td>0</td>\n",
       "      <td>2</td>\n",
       "      <td>0</td>\n",
       "      <td>0</td>\n",
       "      <td>0</td>\n",
       "    </tr>\n",
       "    <tr>\n",
       "      <th>6</th>\n",
       "      <td>training/12883</td>\n",
       "      <td>7</td>\n",
       "      <td>0</td>\n",
       "      <td>1</td>\n",
       "      <td>0</td>\n",
       "      <td>0</td>\n",
       "      <td>0</td>\n",
       "    </tr>\n",
       "    <tr>\n",
       "      <th>7</th>\n",
       "      <td>training/5286</td>\n",
       "      <td>4</td>\n",
       "      <td>0</td>\n",
       "      <td>4</td>\n",
       "      <td>0</td>\n",
       "      <td>0</td>\n",
       "      <td>0</td>\n",
       "    </tr>\n",
       "    <tr>\n",
       "      <th>8</th>\n",
       "      <td>training/13559</td>\n",
       "      <td>7</td>\n",
       "      <td>0</td>\n",
       "      <td>9</td>\n",
       "      <td>0</td>\n",
       "      <td>0</td>\n",
       "      <td>0</td>\n",
       "    </tr>\n",
       "    <tr>\n",
       "      <th>9</th>\n",
       "      <td>training/9652</td>\n",
       "      <td>26</td>\n",
       "      <td>0</td>\n",
       "      <td>1</td>\n",
       "      <td>0</td>\n",
       "      <td>0</td>\n",
       "      <td>0</td>\n",
       "    </tr>\n",
       "  </tbody>\n",
       "</table>\n",
       "</div>"
      ],
      "text/plain": [
       "               id  rb_numbers  rb_dates  ner_dates  ner_money  ner_percent  \\\n",
       "0  training/12077          21         0          3          0            0   \n",
       "1   training/2714           7         0          1          0            0   \n",
       "2  training/13263          15         0          6          1            0   \n",
       "3  training/10215           2         0          0          0            0   \n",
       "4  training/12243           6         0          1          0            0   \n",
       "5  training/10720           7         0          2          0            0   \n",
       "6  training/12883           7         0          1          0            0   \n",
       "7   training/5286           4         0          4          0            0   \n",
       "8  training/13559           7         0          9          0            0   \n",
       "9   training/9652          26         0          1          0            0   \n",
       "\n",
       "   any_overlap_dates  \n",
       "0                  0  \n",
       "1                  0  \n",
       "2                  0  \n",
       "3                  0  \n",
       "4                  0  \n",
       "5                  0  \n",
       "6                  0  \n",
       "7                  0  \n",
       "8                  0  \n",
       "9                  0  "
      ]
     },
     "metadata": {},
     "output_type": "display_data"
    },
    {
     "name": "stdout",
     "output_type": "stream",
     "text": [
      "Docs with DATE overlap (regex vs NER): 0 / 20\n"
     ]
    }
   ],
   "source": [
    "def to_set_safe(v):\n",
    "    try:\n",
    "        return set(v)\n",
    "    except Exception:\n",
    "        return set()\n",
    "\n",
    "rows = []\n",
    "for _, r in merged.iterrows():\n",
    "    ex = r.get(\"extracted\") or {}\n",
    "    numbers = to_set_safe(ex.get(\"numbers\", []))\n",
    "    dates_rb = to_set_safe(ex.get(\"dates\", []))\n",
    "\n",
    "    ents = r.get(\"entities\") or []\n",
    "    dates_ner = set(e[\"text\"] for e in ents if e[\"label\"] == \"DATE\")\n",
    "    money_ner = set(e[\"text\"] for e in ents if e[\"label\"] == \"MONEY\")\n",
    "    percent_ner = set(e[\"text\"] for e in ents if e[\"label\"] == \"PERCENT\")\n",
    "\n",
    "    rows.append({\n",
    "        \"id\": r[\"id\"],\n",
    "        \"rb_numbers\": len(numbers),\n",
    "        \"rb_dates\": len(dates_rb),\n",
    "        \"ner_dates\": len(dates_ner),\n",
    "        \"ner_money\": len(money_ner),\n",
    "        \"ner_percent\": len(percent_ner),\n",
    "        \"any_overlap_dates\": int(len(dates_rb & dates_ner) > 0)\n",
    "    })\n",
    "overlap_df = pd.DataFrame(rows)\n",
    "display(overlap_df.head(10))\n",
    "print(\"Docs with DATE overlap (regex vs NER):\", int(overlap_df[\"any_overlap_dates\"].sum()), \"/\", len(overlap_df))\n"
   ]
  },
  {
   "cell_type": "code",
   "execution_count": 15,
   "id": "1ec040af",
   "metadata": {},
   "outputs": [
    {
     "name": "stdout",
     "output_type": "stream",
     "text": [
      "Saved:\n",
      " - C:\\Users\\BAB AL SAFA\\Documents\\Vani\\personal\\escalate-nlp-agent\\reports\\extraction_demos\\reuters_sample_extractions.parquet\n",
      " - C:\\Users\\BAB AL SAFA\\Documents\\Vani\\personal\\escalate-nlp-agent\\reports\\extraction_demos\\reuters_rulebased_counts.csv\n",
      " - C:\\Users\\BAB AL SAFA\\Documents\\Vani\\personal\\escalate-nlp-agent\\reports\\extraction_demos\\reuters_ner_label_counts.csv\n"
     ]
    }
   ],
   "source": [
    "out_dir = REPO_ROOT / \"reports\" / \"extraction_demos\"\n",
    "out_dir.mkdir(parents=True, exist_ok=True)\n",
    "\n",
    "merged.to_parquet(out_dir / f\"{ds_cfg['id']}_sample_extractions.parquet\", index=False)\n",
    "rb_counts.to_csv(out_dir / f\"{ds_cfg['id']}_rulebased_counts.csv\", index=False)\n",
    "if isinstance(ent_counts, pd.DataFrame) and not ent_counts.empty:\n",
    "    ent_counts.to_csv(out_dir / f\"{ds_cfg['id']}_ner_label_counts.csv\", index=False)\n",
    "\n",
    "print(\"Saved:\")\n",
    "print(\" -\", out_dir / f\"{ds_cfg['id']}_sample_extractions.parquet\")\n",
    "if \"rb_counts\" in locals(): print(\" -\", out_dir / f\"{ds_cfg['id']}_rulebased_counts.csv\")\n",
    "if \"ent_counts\" in locals() and isinstance(ent_counts, pd.DataFrame) and not ent_counts.empty:\n",
    "    print(\" -\", out_dir / f\"{ds_cfg['id']}_ner_label_counts.csv\")\n"
   ]
  }
 ],
 "metadata": {
  "kernelspec": {
   "display_name": "Python 3",
   "language": "python",
   "name": "python3"
  },
  "language_info": {
   "codemirror_mode": {
    "name": "ipython",
    "version": 3
   },
   "file_extension": ".py",
   "mimetype": "text/x-python",
   "name": "python",
   "nbconvert_exporter": "python",
   "pygments_lexer": "ipython3",
   "version": "3.12.6"
  }
 },
 "nbformat": 4,
 "nbformat_minor": 5
}
