{
 "cells": [
  {
   "cell_type": "markdown",
   "id": "9774a15f",
   "metadata": {},
   "source": [
    "# 03 — Summarization Demos (Extractive TextRank + Optional Abstractive BART)\n",
    "\n",
    "This notebook:\n",
    "- Loads processed data\n",
    "- Runs **extractive** TextRank (sumy) on a sample and full split\n",
    "- (Optional) Runs **abstractive** BART for comparison\n",
    "- Shows qualitative side-by-side examples and quick metrics\n",
    "- Saves summarized artifacts for the report\n"
   ]
  },
  {
   "cell_type": "code",
   "execution_count": 1,
   "id": "a81cebc9",
   "metadata": {},
   "outputs": [
    {
     "name": "stdout",
     "output_type": "stream",
     "text": [
      "Repo root: C:\\Users\\BAB AL SAFA\\Documents\\Vani\\personal\\escalate-nlp-agent\n",
      "Using src dir: C:\\Users\\BAB AL SAFA\\Documents\\Vani\\personal\\escalate-nlp-agent\\src\n"
     ]
    }
   ],
   "source": [
    "import os, sys, time, json, yaml, math\n",
    "from pathlib import Path\n",
    "\n",
    "# Ensure local package is importable (src/ layout)\n",
    "REPO_ROOT = Path.cwd().resolve().parents[0] if Path.cwd().name == \"notebooks\" else Path.cwd()\n",
    "SRC_DIR = REPO_ROOT / \"src\"\n",
    "if str(SRC_DIR) not in sys.path:\n",
    "    sys.path.insert(0, str(SRC_DIR))\n",
    "\n",
    "print(\"Repo root:\", REPO_ROOT)\n",
    "print(\"Using src dir:\", SRC_DIR)\n",
    "\n",
    "import pandas as pd\n",
    "import numpy as np\n",
    "from IPython.display import display, HTML\n",
    "\n",
    "# our summarizers\n",
    "from escalate_nlp_agent.summarize.textrank import run_textrank\n",
    "# abstractive is optional; we'll import lazily later\n"
   ]
  },
  {
   "cell_type": "code",
   "execution_count": 2,
   "id": "7830d7ba",
   "metadata": {},
   "outputs": [
    {
     "name": "stdout",
     "output_type": "stream",
     "text": [
      "Dataset: NLTK Reuters | id: reuters\n",
      "TextRank sentences: 3\n"
     ]
    }
   ],
   "source": [
    "CONFIG_PATH = REPO_ROOT / \"configs\" / \"config.yaml\"\n",
    "with open(CONFIG_PATH, \"r\") as f:\n",
    "    cfg = yaml.safe_load(f)\n",
    "\n",
    "DS_CFG_PATH = REPO_ROOT / cfg[\"dataset_config\"]\n",
    "with open(DS_CFG_PATH, \"r\") as f:\n",
    "    ds_cfg = yaml.safe_load(f)\n",
    "\n",
    "TEXTRANK_CFG_PATH = REPO_ROOT / \"configs\" / \"summarize\" / \"textrank.yaml\"\n",
    "with open(TEXTRANK_CFG_PATH, \"r\") as f:\n",
    "    textrank_cfg = yaml.safe_load(f)\n",
    "\n",
    "print(\"Dataset:\", ds_cfg[\"name\"], \"| id:\", ds_cfg[\"id\"])\n",
    "print(\"TextRank sentences:\", textrank_cfg.get(\"sentences\", 3))\n"
   ]
  },
  {
   "cell_type": "code",
   "execution_count": 3,
   "id": "ccf7af1d",
   "metadata": {},
   "outputs": [
    {
     "name": "stdout",
     "output_type": "stream",
     "text": [
      "Train shape: (7616, 3)\n"
     ]
    },
    {
     "data": {
      "text/html": [
       "<div>\n",
       "<style scoped>\n",
       "    .dataframe tbody tr th:only-of-type {\n",
       "        vertical-align: middle;\n",
       "    }\n",
       "\n",
       "    .dataframe tbody tr th {\n",
       "        vertical-align: top;\n",
       "    }\n",
       "\n",
       "    .dataframe thead th {\n",
       "        text-align: right;\n",
       "    }\n",
       "</style>\n",
       "<table border=\"1\" class=\"dataframe\">\n",
       "  <thead>\n",
       "    <tr style=\"text-align: right;\">\n",
       "      <th></th>\n",
       "      <th>id</th>\n",
       "      <th>title</th>\n",
       "      <th>text</th>\n",
       "    </tr>\n",
       "  </thead>\n",
       "  <tbody>\n",
       "    <tr>\n",
       "      <th>0</th>\n",
       "      <td>training/11644</td>\n",
       "      <td>None</td>\n",
       "      <td>overland express inc &amp;lt;over&gt; year loss shr l...</td>\n",
       "    </tr>\n",
       "    <tr>\n",
       "      <th>1</th>\n",
       "      <td>training/7076</td>\n",
       "      <td>None</td>\n",
       "      <td>progressive bank inc &amp;lt;psbk&gt; qtly div seven ...</td>\n",
       "    </tr>\n",
       "    <tr>\n",
       "      <th>2</th>\n",
       "      <td>training/5830</td>\n",
       "      <td>None</td>\n",
       "      <td>oecd january annual inflation steady at 2.1 pc...</td>\n",
       "    </tr>\n",
       "  </tbody>\n",
       "</table>\n",
       "</div>"
      ],
      "text/plain": [
       "               id title                                               text\n",
       "0  training/11644  None  overland express inc &lt;over> year loss shr l...\n",
       "1   training/7076  None  progressive bank inc &lt;psbk> qtly div seven ...\n",
       "2   training/5830  None  oecd january annual inflation steady at 2.1 pc..."
      ]
     },
     "execution_count": 3,
     "metadata": {},
     "output_type": "execute_result"
    }
   ],
   "source": [
    "proc_dir = REPO_ROOT / ds_cfg[\"outputs\"][\"processed_dir\"]\n",
    "train_path = proc_dir / \"train.parquet\"\n",
    "assert train_path.exists(), f\"Missing {train_path}. Run Step 1 preprocessing.\"\n",
    "\n",
    "df = pd.read_parquet(train_path)[[\"id\",\"title\",\"text\"]]\n",
    "print(\"Train shape:\", df.shape)\n",
    "\n",
    "SAMPLE_N = 20\n",
    "sample = df.sample(SAMPLE_N, random_state=7).reset_index(drop=True)\n",
    "sample.head(3)\n"
   ]
  },
  {
   "cell_type": "code",
   "execution_count": 4,
   "id": "5a7ac69f",
   "metadata": {},
   "outputs": [
    {
     "name": "stdout",
     "output_type": "stream",
     "text": [
      "TextRank on 20 docs: 0.07s\n"
     ]
    },
    {
     "data": {
      "text/html": [
       "<div>\n",
       "<style scoped>\n",
       "    .dataframe tbody tr th:only-of-type {\n",
       "        vertical-align: middle;\n",
       "    }\n",
       "\n",
       "    .dataframe tbody tr th {\n",
       "        vertical-align: top;\n",
       "    }\n",
       "\n",
       "    .dataframe thead th {\n",
       "        text-align: right;\n",
       "    }\n",
       "</style>\n",
       "<table border=\"1\" class=\"dataframe\">\n",
       "  <thead>\n",
       "    <tr style=\"text-align: right;\">\n",
       "      <th></th>\n",
       "      <th>id</th>\n",
       "      <th>title</th>\n",
       "      <th>text</th>\n",
       "      <th>summary</th>\n",
       "    </tr>\n",
       "  </thead>\n",
       "  <tbody>\n",
       "    <tr>\n",
       "      <th>0</th>\n",
       "      <td>training/11644</td>\n",
       "      <td>None</td>\n",
       "      <td>overland express inc &amp;lt;over&gt; year loss shr l...</td>\n",
       "      <td>overland express inc &amp;lt;over&gt; year loss shr l...</td>\n",
       "    </tr>\n",
       "    <tr>\n",
       "      <th>1</th>\n",
       "      <td>training/7076</td>\n",
       "      <td>None</td>\n",
       "      <td>progressive bank inc &amp;lt;psbk&gt; qtly div seven ...</td>\n",
       "      <td>progressive bank inc &amp;lt;psbk&gt; qtly div seven ...</td>\n",
       "    </tr>\n",
       "    <tr>\n",
       "      <th>2</th>\n",
       "      <td>training/5830</td>\n",
       "      <td>None</td>\n",
       "      <td>oecd january annual inflation steady at 2.1 pc...</td>\n",
       "      <td>oecd january annual inflation steady at 2.1 pc...</td>\n",
       "    </tr>\n",
       "  </tbody>\n",
       "</table>\n",
       "</div>"
      ],
      "text/plain": [
       "               id title                                               text  \\\n",
       "0  training/11644  None  overland express inc &lt;over> year loss shr l...   \n",
       "1   training/7076  None  progressive bank inc &lt;psbk> qtly div seven ...   \n",
       "2   training/5830  None  oecd january annual inflation steady at 2.1 pc...   \n",
       "\n",
       "                                             summary  \n",
       "0  overland express inc &lt;over> year loss shr l...  \n",
       "1  progressive bank inc &lt;psbk> qtly div seven ...  \n",
       "2  oecd january annual inflation steady at 2.1 pc...  "
      ]
     },
     "execution_count": 4,
     "metadata": {},
     "output_type": "execute_result"
    }
   ],
   "source": [
    "t0 = time.time()\n",
    "textrank_sample = run_textrank(sample[[\"id\",\"text\"]].copy(), textrank_cfg)\n",
    "t1 = time.time()\n",
    "print(f\"TextRank on {len(textrank_sample)} docs: {t1 - t0:.2f}s\")\n",
    "\n",
    "demo = sample.merge(textrank_sample, on=\"id\", how=\"left\")\n",
    "demo.head(3)\n"
   ]
  },
  {
   "cell_type": "code",
   "execution_count": 5,
   "id": "e20a1a7e",
   "metadata": {},
   "outputs": [
    {
     "data": {
      "text/html": [
       "\n",
       "    <div style=\"border:1px solid #ddd;border-radius:10px;padding:12px;margin:10px 0\">\n",
       "      <div style=\"color:#666\">id: <b>training/11644</b></div>\n",
       "      <div style=\"font-weight:600;margin:6px 0\"></div>\n",
       "      <div><b>Original:</b> <span style=\"color:#333\">overland express inc &lt;over> year loss shr loss 9.31 dlrs vs loss 1.62 dlrs net loss 16.2 mln vs loss 2.8 mln revs 99.4 mln vs 96.5 mln note: 1986 includes loss of 3.9 mln dlrs from restructuring. note: loss 1986 includes 3.9 mln dlrs for restructuring costs associated with disposal of property. loss also includes the sale-at-a-loss of the company's aircraft.</span></div>\n",
       "      <div style=\"margin-top:6px\"><b>Summary (TextRank):</b> <span style=\"color:#333\">overland express inc &lt;over> year loss shr loss 9.31 dlrs vs loss 1.62 dlrs net loss 16.2 mln vs loss 2.8 mln revs 99.4 mln vs 96.5 mln note: 1986 includes loss of 3.9 mln dlrs from restructuring. note: loss 1986 includes 3.9 mln dlrs for restructuring costs associated with disposal of property. l</span></div>\n",
       "    </div>\n",
       "    "
      ],
      "text/plain": [
       "<IPython.core.display.HTML object>"
      ]
     },
     "metadata": {},
     "output_type": "display_data"
    },
    {
     "data": {
      "text/html": [
       "\n",
       "    <div style=\"border:1px solid #ddd;border-radius:10px;padding:12px;margin:10px 0\">\n",
       "      <div style=\"color:#666\">id: <b>training/7076</b></div>\n",
       "      <div style=\"font-weight:600;margin:6px 0\"></div>\n",
       "      <div><b>Original:</b> <span style=\"color:#333\">progressive bank inc &lt;psbk> qtly div seven cts vs seven cts in prior qtr payable april 15 record march 31</span></div>\n",
       "      <div style=\"margin-top:6px\"><b>Summary (TextRank):</b> <span style=\"color:#333\">progressive bank inc &lt;psbk> qtly div seven cts vs seven cts in prior qtr payable april 15 record march 31</span></div>\n",
       "    </div>\n",
       "    "
      ],
      "text/plain": [
       "<IPython.core.display.HTML object>"
      ]
     },
     "metadata": {},
     "output_type": "display_data"
    },
    {
     "data": {
      "text/html": [
       "\n",
       "    <div style=\"border:1px solid #ddd;border-radius:10px;padding:12px;margin:10px 0\">\n",
       "      <div style=\"color:#666\">id: <b>training/5830</b></div>\n",
       "      <div style=\"font-weight:600;margin:6px 0\"></div>\n",
       "      <div><b>Original:</b> <span style=\"color:#333\">oecd january annual inflation steady at 2.1 pct inflation in the 24 industrialised nations of the organisation for economic cooperation and development was 2.1 pct in the year to january, unchanged from december, the oecd said. but monthly inflation throughout the oecd was an average 0.4 pct in january, a rise compared to the 0.2 pct in the last quarter. retail energy prices rose strongly in january, reflecting the firming of world oil prices. for oecd states the increase was 0.7 pct but the january level of retail energy prices was still 11.6 pct lower than a year earlier, the oecd said. the </span></div>\n",
       "      <div style=\"margin-top:6px\"><b>Summary (TextRank):</b> <span style=\"color:#333\">oecd january annual inflation steady at 2.1 pct inflation in the 24 industrialised nations of the organisation for economic cooperation and development was 2.1 pct in the year to january, unchanged from december, the oecd said. but monthly inflation throughout the oecd was an average 0.4 pct in janu</span></div>\n",
       "    </div>\n",
       "    "
      ],
      "text/plain": [
       "<IPython.core.display.HTML object>"
      ]
     },
     "metadata": {},
     "output_type": "display_data"
    },
    {
     "data": {
      "text/html": [
       "\n",
       "    <div style=\"border:1px solid #ddd;border-radius:10px;padding:12px;margin:10px 0\">\n",
       "      <div style=\"color:#666\">id: <b>training/2385</b></div>\n",
       "      <div style=\"font-weight:600;margin:6px 0\"></div>\n",
       "      <div><b>Original:</b> <span style=\"color:#333\">lucky stores inc &lt;lks> reinstates quarterly div qtly div 12.5 cts vs nil pay april 3 record march 16 note: in quarters preceeding 4th qtr, dividend was 29 cts.</span></div>\n",
       "      <div style=\"margin-top:6px\"><b>Summary (TextRank):</b> <span style=\"color:#333\">lucky stores inc &lt;lks> reinstates quarterly div qtly div 12.5 cts vs nil pay april 3 record march 16 note: in quarters preceeding 4th qtr, dividend was 29 cts.</span></div>\n",
       "    </div>\n",
       "    "
      ],
      "text/plain": [
       "<IPython.core.display.HTML object>"
      ]
     },
     "metadata": {},
     "output_type": "display_data"
    },
    {
     "data": {
      "text/html": [
       "\n",
       "    <div style=\"border:1px solid #ddd;border-radius:10px;padding:12px;margin:10px 0\">\n",
       "      <div style=\"color:#666\">id: <b>training/9959</b></div>\n",
       "      <div style=\"font-weight:600;margin:6px 0\"></div>\n",
       "      <div><b>Original:</b> <span style=\"color:#333\">pier 1 imports &lt;pir> declares stock split pier 1 imports inc said its board declared a three-for-two split of its common stock and its 25 cents preferred stock, and declared a regular quarterly dividend of two cents per share on the pre-split shares of common stock outstanding. pier 1 also declared a 12.5 pct annual dividend increase for the post-split common shares. the split will be effected in the form of a 50 pct stock dividend on both classes. the company said shareholder approval is required for an increase in authorized shares of common stock to 100 mln from 25 mln. it said approval </span></div>\n",
       "      <div style=\"margin-top:6px\"><b>Summary (TextRank):</b> <span style=\"color:#333\">pier 1 imports &lt;pir> declares stock split pier 1 imports inc said its board declared a three-for-two split of its common stock and its 25 cents preferred stock, and declared a regular quarterly dividend of two cents per share on the pre-split shares of common stock outstanding. pier 1 also declar</span></div>\n",
       "    </div>\n",
       "    "
      ],
      "text/plain": [
       "<IPython.core.display.HTML object>"
      ]
     },
     "metadata": {},
     "output_type": "display_data"
    }
   ],
   "source": [
    "def show_pair(row, max_input=600, max_sum=600):\n",
    "    title = (row.get(\"title\") or \"\").strip()\n",
    "    text = (row[\"text\"] or \"\").strip().replace(\"\\n\", \" \")\n",
    "    summ = (row[\"summary\"] or \"\").strip().replace(\"\\n\", \" \")\n",
    "    text = text[:max_input]\n",
    "    summ = summ[:max_sum]\n",
    "    html = f\"\"\"\n",
    "    <div style=\"border:1px solid #ddd;border-radius:10px;padding:12px;margin:10px 0\">\n",
    "      <div style=\"color:#666\">id: <b>{row['id']}</b></div>\n",
    "      <div style=\"font-weight:600;margin:6px 0\">{title}</div>\n",
    "      <div><b>Original:</b> <span style=\"color:#333\">{text}</span></div>\n",
    "      <div style=\"margin-top:6px\"><b>Summary (TextRank):</b> <span style=\"color:#333\">{summ}</span></div>\n",
    "    </div>\n",
    "    \"\"\"\n",
    "    display(HTML(html))\n",
    "\n",
    "for _, r in demo.head(5).iterrows():\n",
    "    show_pair(r)\n"
   ]
  },
  {
   "cell_type": "code",
   "execution_count": 7,
   "id": "165a4e0d",
   "metadata": {},
   "outputs": [
    {
     "data": {
      "text/plain": [
       "{'n_docs': 20,\n",
       " 'avg_len_text': 101.3,\n",
       " 'avg_len_sum': 46.25,\n",
       " 'avg_compression_ratio': 0.6213364148700167,\n",
       " 'pct_empty_summary': 0.0}"
      ]
     },
     "execution_count": 7,
     "metadata": {},
     "output_type": "execute_result"
    }
   ],
   "source": [
    "def token_count(s):\n",
    "    if not isinstance(s, str): return 0\n",
    "    return len([t for t in s.split() if t.strip()])\n",
    "\n",
    "m = demo.copy()\n",
    "m[\"len_text\"] = m[\"text\"].map(token_count)\n",
    "m[\"len_sum\"] = m[\"summary\"].map(token_count)\n",
    "m[\"compression\"] = np.where(m[\"len_text\"]>0, m[\"len_sum\"]/m[\"len_text\"], np.nan)\n",
    "\n",
    "metrics = {\n",
    "    \"n_docs\": int(len(m)),\n",
    "    \"avg_len_text\": float(m[\"len_text\"].mean()),\n",
    "    \"avg_len_sum\": float(m[\"len_sum\"].mean()),\n",
    "    \"avg_compression_ratio\": float(m[\"compression\"].mean()),\n",
    "    \"pct_empty_summary\": float((m[\"len_sum\"]==0).mean()),\n",
    "}\n",
    "metrics\n"
   ]
  },
  {
   "cell_type": "code",
   "execution_count": 9,
   "id": "5a376779",
   "metadata": {},
   "outputs": [
    {
     "name": "stdout",
     "output_type": "stream",
     "text": [
      "TextRank (full 7616 docs): 6.49s\n",
      "Saved: C:\\Users\\BAB AL SAFA\\Documents\\Vani\\personal\\escalate-nlp-agent\\data\\processed\\reuters\\summaries_textrank.parquet\n"
     ]
    }
   ],
   "source": [
    "t0 = time.time()\n",
    "textrank_full = run_textrank(df[[\"id\",\"text\"]].copy(), textrank_cfg)\n",
    "t1 = time.time()\n",
    "print(f\"TextRank (full {len(textrank_full)} docs): {t1 - t0:.2f}s\")\n",
    "\n",
    "out_parquet = REPO_ROOT / f\"data/processed/{ds_cfg['id']}/summaries_textrank.parquet\"\n",
    "out_parquet.parent.mkdir(parents=True, exist_ok=True)\n",
    "textrank_full.to_parquet(out_parquet, index=False)\n",
    "print(\"Saved:\", out_parquet)\n"
   ]
  },
  {
   "cell_type": "code",
   "execution_count": 10,
   "id": "ce603b24",
   "metadata": {},
   "outputs": [
    {
     "name": "stdout",
     "output_type": "stream",
     "text": [
      "Saved:\n",
      " - C:\\Users\\BAB AL SAFA\\Documents\\Vani\\personal\\escalate-nlp-agent\\reports\\summarization_demos\\reuters_textrank_sample.parquet\n",
      " - C:\\Users\\BAB AL SAFA\\Documents\\Vani\\personal\\escalate-nlp-agent\\reports\\summarization_demos\\reuters_textrank_metrics.json\n"
     ]
    }
   ],
   "source": [
    "demo_dir = REPO_ROOT / \"reports\" / \"summarization_demos\"\n",
    "demo_dir.mkdir(parents=True, exist_ok=True)\n",
    "\n",
    "demo_out = demo[[\"id\",\"title\",\"text\",\"summary\"]]\n",
    "demo_out.to_parquet(demo_dir / f\"{ds_cfg['id']}_textrank_sample.parquet\", index=False)\n",
    "\n",
    "with open(demo_dir / f\"{ds_cfg['id']}_textrank_metrics.json\", \"w\", encoding=\"utf-8\") as f:\n",
    "    json.dump(metrics, f, indent=2)\n",
    "\n",
    "print(\"Saved:\")\n",
    "print(\" -\", demo_dir / f\"{ds_cfg['id']}_textrank_sample.parquet\")\n",
    "print(\" -\", demo_dir / f\"{ds_cfg['id']}_textrank_metrics.json\")\n"
   ]
  }
 ],
 "metadata": {
  "kernelspec": {
   "display_name": "Python 3",
   "language": "python",
   "name": "python3"
  },
  "language_info": {
   "codemirror_mode": {
    "name": "ipython",
    "version": 3
   },
   "file_extension": ".py",
   "mimetype": "text/x-python",
   "name": "python",
   "nbconvert_exporter": "python",
   "pygments_lexer": "ipython3",
   "version": "3.12.6"
  }
 },
 "nbformat": 4,
 "nbformat_minor": 5
}
